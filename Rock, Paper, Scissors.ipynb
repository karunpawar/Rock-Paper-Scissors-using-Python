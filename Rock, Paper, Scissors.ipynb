{
 "cells": [
  {
   "cell_type": "code",
   "execution_count": 2,
   "id": "5292a1c5-22b8-4f47-b85e-658dd3ec5397",
   "metadata": {},
   "outputs": [
    {
     "name": "stdout",
     "output_type": "stream",
     "text": [
      "======================================================================\n",
      "NOTE: To terminate the game and see the final results. please enter 'end'.\n",
      "======================================================================\n"
     ]
    },
    {
     "name": "stdin",
     "output_type": "stream",
     "text": [
      "Rock, Paper or Scissors?(player):  rock\n"
     ]
    },
    {
     "name": "stdout",
     "output_type": "stream",
     "text": [
      "Rock, Paper or Scissors?(computer): scissors\n",
      "You win! You went hard! 😆\n"
     ]
    },
    {
     "name": "stdin",
     "output_type": "stream",
     "text": [
      "Rock, Paper or Scissors?(player):  rock\n"
     ]
    },
    {
     "name": "stdout",
     "output_type": "stream",
     "text": [
      "Rock, Paper or Scissors?(computer): rock\n",
      "It's a tie!\n"
     ]
    },
    {
     "name": "stdin",
     "output_type": "stream",
     "text": [
      "Rock, Paper or Scissors?(player):  paper\n"
     ]
    },
    {
     "name": "stdout",
     "output_type": "stream",
     "text": [
      "Rock, Paper or Scissors?(computer): paper\n",
      "It's a tie!\n"
     ]
    },
    {
     "name": "stdin",
     "output_type": "stream",
     "text": [
      "Rock, Paper or Scissors?(player):  paper\n"
     ]
    },
    {
     "name": "stdout",
     "output_type": "stream",
     "text": [
      "Rock, Paper or Scissors?(computer): scissors\n",
      "It was a cut throat game. Sadly you got the cut this time. 😇\n"
     ]
    },
    {
     "name": "stdin",
     "output_type": "stream",
     "text": [
      "Rock, Paper or Scissors?(player):  scissors\n"
     ]
    },
    {
     "name": "stdout",
     "output_type": "stream",
     "text": [
      "Rock, Paper or Scissors?(computer): rock\n",
      "He smashed that pair of scissors of yours! We will see 'em when we get it again. 😘\n"
     ]
    },
    {
     "name": "stdin",
     "output_type": "stream",
     "text": [
      "Rock, Paper or Scissors?(player):  scissors\n"
     ]
    },
    {
     "name": "stdout",
     "output_type": "stream",
     "text": [
      "Rock, Paper or Scissors?(computer): scissors\n",
      "It's a tie!\n"
     ]
    },
    {
     "name": "stdin",
     "output_type": "stream",
     "text": [
      "Rock, Paper or Scissors?(player):  jgld\n",
      "Rock, Paper or Scissors?(player):  kdjfl\n",
      "Rock, Paper or Scissors?(player):  rock\n"
     ]
    },
    {
     "name": "stdout",
     "output_type": "stream",
     "text": [
      "Rock, Paper or Scissors?(computer): scissors\n",
      "You win! You went hard! 😆\n"
     ]
    },
    {
     "name": "stdin",
     "output_type": "stream",
     "text": [
      "Rock, Paper or Scissors?(player):  end\n"
     ]
    },
    {
     "name": "stdout",
     "output_type": "stream",
     "text": [
      "Final Scores: \n",
      "------------\n",
      "------------\n",
      "\n",
      "--------\n",
      "CPU: 2\n",
      "Player: 2\n",
      "--------\n",
      "\n",
      "\n",
      "<<<<<<<<<<<<<<<\n",
      "Drawn!\n",
      ">>>>>>>>>>>>>>>\n"
     ]
    }
   ],
   "source": [
    "import random\n",
    "options = [\"rock\",\"paper\",\"scissors\"]\n",
    "#computer = random.choice(options)\n",
    "player = False\n",
    "Computer_Score = 0\n",
    "Player_Score = 0\n",
    "terminate_game = \"end\"\n",
    "print('='*70)\n",
    "print(\"NOTE: To terminate the game and see the final results. please enter 'end'.\")\n",
    "print('='*70)\n",
    "\n",
    "while True:\n",
    "    player = input(\"Rock, Paper or Scissors?(player): \").lower()\n",
    "    computer = random.choice(options)\n",
    "    if player == computer:\n",
    "        print(f\"Rock, Paper or Scissors?(computer): {computer}\")\n",
    "        print(\"It's a tie!\")\n",
    "    elif player == \"rock\":\n",
    "        if computer == \"scissors\":\n",
    "            print(f\"Rock, Paper or Scissors?(computer): {computer}\")\n",
    "            print(\"You win! You went hard! \\U0001F606\")\n",
    "            Player_Score += 1\n",
    "        else:\n",
    "            print(f\"Rock, Paper or Scissors?(computer): {computer}\")\n",
    "            print(\"You lose! Wrapped you up good. \\U0001F607\")\n",
    "            Computer_Score += 1\n",
    "    elif player == \"paper\":\n",
    "        if computer == \"rock\":\n",
    "            print(f\"Rock, Paper or Scissors?(computer): {computer}\")\n",
    "            print(\"You win! You've wrapped 'em good this time. \\U0001F606\")\n",
    "            Player_Score += 1\n",
    "        else:\n",
    "            print(f\"Rock, Paper or Scissors?(computer): {computer}\")\n",
    "            print(\"It was a cut throat game. Sadly you got the cut this time. \\U0001F607\")\n",
    "            Computer_Score += 1\n",
    "    elif player == \"scissors\":\n",
    "        if computer == \"paper\":\n",
    "            print(f\"Rock, Paper or Scissors?(computer): {computer}\")\n",
    "            print(\"Ouch! That cut must have hurt him. It's win for you. \\U0001F612\")\n",
    "            Player_Score += 1\n",
    "        else:\n",
    "            print(f\"Rock, Paper or Scissors?(computer): {computer}\")\n",
    "            print(\"He smashed that pair of scissors of yours! We will see 'em when we get it again. \\U0001F618\")\n",
    "            Computer_Score += 1\n",
    "    elif player == terminate_game:\n",
    "        print(\"Final Scores: \")\n",
    "        print(\"-\"*12)\n",
    "        print(\"-\"*12)\n",
    "        print()\n",
    "        print(\"-\"*8)\n",
    "        print(f\"CPU: {Computer_Score}\")\n",
    "        print(f\"Player: {Player_Score}\")\n",
    "        print(\"-\"*8)\n",
    "        print()\n",
    "        print()\n",
    "        print('<'*15)\n",
    "        if Player_Score == Computer_Score:\n",
    "            print(\"Drawn!\")\n",
    "        elif Player_Score>Computer_Score:\n",
    "            print(\"Voila! You Win.\")\n",
    "        elif Player_Score<Computer_Score:\n",
    "            print(\"Better luck next time \\U0001F917\")\n",
    "        print('>'*15)\n",
    "        break"
   ]
  }
 ],
 "metadata": {
  "kernelspec": {
   "display_name": "Python 3 (ipykernel)",
   "language": "python",
   "name": "python3"
  },
  "language_info": {
   "codemirror_mode": {
    "name": "ipython",
    "version": 3
   },
   "file_extension": ".py",
   "mimetype": "text/x-python",
   "name": "python",
   "nbconvert_exporter": "python",
   "pygments_lexer": "ipython3",
   "version": "3.12.2"
  }
 },
 "nbformat": 4,
 "nbformat_minor": 5
}
